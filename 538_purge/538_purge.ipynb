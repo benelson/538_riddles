{
 "cells": [
  {
   "cell_type": "code",
   "execution_count": 1,
   "metadata": {
    "collapsed": false
   },
   "outputs": [],
   "source": [
    "import numpy as np\n",
    "import matplotlib.pyplot as plt\n",
    "import copy\n",
    "%matplotlib inline"
   ]
  },
  {
   "cell_type": "markdown",
   "metadata": {},
   "source": [
    "From the [Riddler Express](https://fivethirtyeight.com/features/who-steals-the-most-in-a-town-full-of-thieves/)..."
   ]
  },
  {
   "cell_type": "code",
   "execution_count": 2,
   "metadata": {
    "collapsed": false
   },
   "outputs": [
    {
     "name": "stdout",
     "output_type": "stream",
     "text": [
      "Done with simulation 0\n",
      "Done with simulation 5000\n",
      "Done with simulation 10000\n",
      "Done with simulation 15000\n",
      "Done with simulation 20000\n",
      "Done with simulation 25000\n",
      "Done with simulation 30000\n",
      "Done with simulation 35000\n",
      "Done with simulation 40000\n",
      "Done with simulation 45000\n",
      "Done with simulation 50000\n",
      "Done with simulation 55000\n",
      "Done with simulation 60000\n",
      "Done with simulation 65000\n",
      "Done with simulation 70000\n",
      "Done with simulation 75000\n",
      "Done with simulation 80000\n",
      "Done with simulation 85000\n",
      "Done with simulation 90000\n",
      "Done with simulation 95000\n",
      "Done with simulation 100000\n",
      "Done with simulation 105000\n",
      "Done with simulation 110000\n",
      "Done with simulation 115000\n",
      "Done with simulation 120000\n",
      "Done with simulation 125000\n",
      "Done with simulation 130000\n",
      "Done with simulation 135000\n",
      "Done with simulation 140000\n",
      "Done with simulation 145000\n",
      "Done with simulation 150000\n",
      "Done with simulation 155000\n",
      "Done with simulation 160000\n",
      "Done with simulation 165000\n",
      "Done with simulation 170000\n",
      "Done with simulation 175000\n",
      "Done with simulation 180000\n",
      "Done with simulation 185000\n",
      "Done with simulation 190000\n",
      "Done with simulation 195000\n",
      "Done with simulation 200000\n",
      "Done with simulation 205000\n",
      "Done with simulation 210000\n",
      "Done with simulation 215000\n",
      "Done with simulation 220000\n",
      "Done with simulation 225000\n",
      "Done with simulation 230000\n",
      "Done with simulation 235000\n",
      "Done with simulation 240000\n",
      "Done with simulation 245000\n",
      "Done with simulation 250000\n",
      "Done with simulation 255000\n",
      "Done with simulation 260000\n",
      "Done with simulation 265000\n",
      "Done with simulation 270000\n",
      "Done with simulation 275000\n",
      "Done with simulation 280000\n",
      "Done with simulation 285000\n",
      "Done with simulation 290000\n",
      "Done with simulation 295000\n",
      "Done with simulation 300000\n",
      "Done with simulation 305000\n",
      "Done with simulation 310000\n",
      "Done with simulation 315000\n",
      "Done with simulation 320000\n",
      "Done with simulation 325000\n",
      "Done with simulation 330000\n",
      "Done with simulation 335000\n",
      "Done with simulation 340000\n",
      "Done with simulation 345000\n",
      "Done with simulation 350000\n",
      "Done with simulation 355000\n",
      "Done with simulation 360000\n",
      "Done with simulation 365000\n",
      "Done with simulation 370000\n",
      "Done with simulation 375000\n",
      "Done with simulation 380000\n",
      "Done with simulation 385000\n",
      "Done with simulation 390000\n",
      "Done with simulation 395000\n",
      "Done with simulation 400000\n",
      "Done with simulation 405000\n",
      "Done with simulation 410000\n",
      "Done with simulation 415000\n",
      "Done with simulation 420000\n",
      "Done with simulation 425000\n",
      "Done with simulation 430000\n",
      "Done with simulation 435000\n",
      "Done with simulation 440000\n",
      "Done with simulation 445000\n",
      "Done with simulation 450000\n",
      "Done with simulation 455000\n",
      "Done with simulation 460000\n",
      "Done with simulation 465000\n",
      "Done with simulation 470000\n",
      "Done with simulation 475000\n",
      "Done with simulation 480000\n",
      "Done with simulation 485000\n",
      "Done with simulation 490000\n",
      "Done with simulation 495000\n"
     ]
    }
   ],
   "source": [
    "N = 1000\n",
    "nSims = 500000\n",
    "\n",
    "houses = list(range(N))\n",
    "indices, maxes = [], []\n",
    "\n",
    "for s in range(nSims):\n",
    "    \n",
    "### Money is an integer to start.\n",
    "    money = [100] * len(houses)\n",
    "\n",
    "### Start the purge!\n",
    "    for h in houses:\n",
    "        \n",
    "        ### Choose a house to rob that isn't yourself.\n",
    "        ### np.random.choice can do this in one line but below implementation is over an order of mag faster.\n",
    "        \n",
    "        house_to_rob = np.random.randint(0,N-1)\n",
    "        if house_to_rob >= h:\n",
    "            house_to_rob += 1\n",
    "            \n",
    "        money[h] += int(money[house_to_rob])\n",
    "\n",
    "        # If a house gets robbed, type becomes a float.\n",
    "        # This is how I'll identify houses that didn't get robbed.\n",
    "        money[house_to_rob] = 0.\n",
    "    \n",
    "#    types = [ type(i) for i in money ]\n",
    "    \n",
    "    maximum = max(money)\n",
    "    \n",
    "    maxes.append(maximum)\n",
    "    indices.append([i for i, x in enumerate(money) if x == maximum])\n",
    "\n",
    "    if s%5000==0:\n",
    "        print(\"Done with simulation\", s)"
   ]
  },
  {
   "cell_type": "code",
   "execution_count": 3,
   "metadata": {
    "collapsed": false
   },
   "outputs": [],
   "source": [
    "indices_flat = [item for sublist in indices for item in sublist]"
   ]
  },
  {
   "cell_type": "code",
   "execution_count": null,
   "metadata": {
    "collapsed": true
   },
   "outputs": [],
   "source": [
    "# In many cases, multiple indices tie for high score, so I consider all of them.\n",
    "#indices_flat = sum(indices,[])"
   ]
  },
  {
   "cell_type": "code",
   "execution_count": 6,
   "metadata": {
    "collapsed": false
   },
   "outputs": [
    {
     "data": {
      "image/png": "[encoded data removed]",
      "text/plain": [
       "<matplotlib.figure.Figure at 0x114b24240>"
      ]
     },
     "metadata": {},
     "output_type": "display_data"
    }
   ],
   "source": [
    "plt.hist(indices_flat, bins=1000)\n",
    "plt.xlabel(\"Position in lottery\", fontsize=16)\n",
    "plt.ylabel(\"High Score Counts\", fontsize=16)\n",
    "plt.show()"
   ]
  },
  {
   "cell_type": "code",
   "execution_count": 5,
   "metadata": {
    "collapsed": false
   },
   "outputs": [
    {
     "data": {
      "text/plain": [
       "998"
      ]
     },
     "execution_count": 5,
     "metadata": {},
     "output_type": "execute_result"
    }
   ],
   "source": [
    "max(set(indices_flat), key=indices_flat.count)"
   ]
  },
  {
   "cell_type": "code",
   "execution_count": 7,
   "metadata": {
    "collapsed": false
   },
   "outputs": [
    {
     "data": {
      "image/png": "[encoded data removed]",
      "text/plain": [
       "<matplotlib.figure.Figure at 0x119f5c4a8>"
      ]
     },
     "metadata": {},
     "output_type": "display_data"
    }
   ],
   "source": [
    "plt.hist(maxes, bins=range(min(maxes)-50,max(maxes)+50,100))\n",
    "plt.show()"
   ]
  },
  {
   "cell_type": "code",
   "execution_count": 8,
   "metadata": {
    "collapsed": false
   },
   "outputs": [
    {
     "data": {
      "text/plain": [
       "500.0"
      ]
     },
     "execution_count": 8,
     "metadata": {},
     "output_type": "execute_result"
    }
   ],
   "source": [
    "np.median(maxes)"
   ]
  },
  {
   "cell_type": "code",
   "execution_count": null,
   "metadata": {
    "collapsed": false
   },
   "outputs": [],
   "source": []
  },
  {
   "cell_type": "code",
   "execution_count": null,
   "metadata": {
    "collapsed": false
   },
   "outputs": [],
   "source": []
  },
  {
   "cell_type": "code",
   "execution_count": null,
   "metadata": {
    "collapsed": true
   },
   "outputs": [],
   "source": []
  }
 ],
 "metadata": {
  "kernelspec": {
   "display_name": "Python 3",
   "language": "python",
   "name": "python3"
  },
  "language_info": {
   "codemirror_mode": {
    "name": "ipython",
    "version": 3
   },
   "file_extension": ".py",
   "mimetype": "text/x-python",
   "name": "python",
   "nbconvert_exporter": "python",
   "pygments_lexer": "ipython3",
   "version": "3.5.1"
  }
 },
 "nbformat": 4,
 "nbformat_minor": 0
}
