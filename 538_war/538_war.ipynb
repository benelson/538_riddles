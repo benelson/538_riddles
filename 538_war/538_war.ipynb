{
 "cells": [
  {
   "cell_type": "code",
   "execution_count": 1,
   "metadata": {
    "collapsed": true
   },
   "outputs": [],
   "source": [
    "import numpy as np\n",
    "import matplotlib.pyplot as plt\n",
    "\n",
    "%matplotlib inline"
   ]
  },
  {
   "cell_type": "code",
   "execution_count": 2,
   "metadata": {
    "collapsed": true
   },
   "outputs": [],
   "source": [
    "import pandas as pd"
   ]
  },
  {
   "cell_type": "code",
   "execution_count": 3,
   "metadata": {
    "collapsed": false
   },
   "outputs": [],
   "source": [
    "teams = np.transpose([ list(map(int, i)) for i in np.transpose(pd.read_csv(\"teams.csv\",\",\").values.tolist())[0:10] ])"
   ]
  },
  {
   "cell_type": "code",
   "execution_count": 4,
   "metadata": {
    "collapsed": false
   },
   "outputs": [],
   "source": [
    "def go_to_war(me, opponent, castles):\n",
    "    score_me, score_op = 0, 0\n",
    "\n",
    "    for i,battle in enumerate(castles):\n",
    "        if me[i] > op[i]:\n",
    "            score_me += battle\n",
    "        elif me[i] < op[i]:\n",
    "            score_op += battle\n",
    "        else:\n",
    "            score_op += battle/2.\n",
    "            score_me += battle/2.\n",
    "    if score_me > score_op:\n",
    "        return 1\n",
    "    else:\n",
    "        return 0\n",
    "    \n",
    "def create_army():\n",
    "    total = 100\n",
    "    army = []\n",
    "    while sum(army)!=total:\n",
    "        army = np.random.dirichlet(np.ones(10), size=1)[0]*total\n",
    "        army = [int(round(d)) for d in army]\n",
    "    return army"
   ]
  },
  {
   "cell_type": "code",
   "execution_count": 6,
   "metadata": {
    "collapsed": false
   },
   "outputs": [],
   "source": [
    "castles = [1, 2, 3, 4, 5, 6, 7, 8, 9, 10]\n",
    "\n",
    "my_teams = []\n",
    "win_frac = []\n",
    "\n",
    "all_opponents = len(teams)\n",
    "\n",
    "for i in range(100000):\n",
    "    win_total = 0\n",
    "    me = create_army()\n",
    "    for op in teams:\n",
    "        win_total += go_to_war(me, op, castles)\n",
    "    my_teams.append(me)\n",
    "    win_frac.append(win_total/all_opponents)"
   ]
  },
  {
   "cell_type": "code",
   "execution_count": 7,
   "metadata": {
    "collapsed": false
   },
   "outputs": [
    {
     "name": "stdout",
     "output_type": "stream",
     "text": [
      "0.8240807498197549\n",
      "[3, 4, 2, 11, 11, 3, 27, 2, 31, 6]\n"
     ]
    }
   ],
   "source": [
    "print(max(win_frac))\n",
    "print(my_teams[win_frac.index(max(win_frac))])"
   ]
  },
  {
   "cell_type": "code",
   "execution_count": 17,
   "metadata": {
    "collapsed": false
   },
   "outputs": [
    {
     "name": "stdout",
     "output_type": "stream",
     "text": [
      "0.8788752703677001\n"
     ]
    }
   ],
   "source": [
    "win_total = 0\n",
    "me = [1, 5, 10, 9, 12, 22, 2, 3, 32, 4]\n",
    "for op in teams:\n",
    "    win_total += go_to_war(me, op, castles)\n",
    "print(win_total/all_opponents)"
   ]
  },
  {
   "cell_type": "code",
   "execution_count": 9,
   "metadata": {
    "collapsed": false
   },
   "outputs": [
    {
     "name": "stdout",
     "output_type": "stream",
     "text": [
      "Done with 0\n",
      "Done with 1000\n",
      "Done with 2000\n",
      "Done with 3000\n",
      "Done with 4000\n",
      "Done with 5000\n",
      "Done with 6000\n",
      "Done with 7000\n",
      "Done with 8000\n",
      "Done with 9000\n",
      "Done with 10000\n",
      "Done with 11000\n",
      "Done with 12000\n",
      "Done with 13000\n",
      "Done with 14000\n",
      "Done with 15000\n",
      "Done with 16000\n"
     ]
    },
    {
     "ename": "KeyboardInterrupt",
     "evalue": "",
     "output_type": "error",
     "traceback": [
      "\u001b[0;31m---------------------------------------------------------------------------\u001b[0m",
      "\u001b[0;31mKeyboardInterrupt\u001b[0m                         Traceback (most recent call last)",
      "\u001b[0;32m<ipython-input-9-e9a497264c97>\u001b[0m in \u001b[0;36m<module>\u001b[0;34m()\u001b[0m\n\u001b[1;32m     13\u001b[0m \u001b[0;34m\u001b[0m\u001b[0m\n\u001b[1;32m     14\u001b[0m         \u001b[0;32mfor\u001b[0m \u001b[0mop\u001b[0m \u001b[0;32min\u001b[0m \u001b[0mteams\u001b[0m\u001b[0;34m:\u001b[0m\u001b[0;34m\u001b[0m\u001b[0m\n\u001b[0;32m---> 15\u001b[0;31m             \u001b[0mwin_total\u001b[0m \u001b[0;34m+=\u001b[0m \u001b[0mgo_to_war\u001b[0m\u001b[0;34m(\u001b[0m\u001b[0mme\u001b[0m\u001b[0;34m,\u001b[0m \u001b[0mop\u001b[0m\u001b[0;34m,\u001b[0m \u001b[0mcastles\u001b[0m\u001b[0;34m)\u001b[0m\u001b[0;34m\u001b[0m\u001b[0m\n\u001b[0m\u001b[1;32m     16\u001b[0m         \u001b[0mwin_frac_new\u001b[0m \u001b[0;34m=\u001b[0m \u001b[0mwin_total\u001b[0m\u001b[0;34m/\u001b[0m\u001b[0mall_opponents\u001b[0m\u001b[0;34m\u001b[0m\u001b[0m\n\u001b[1;32m     17\u001b[0m \u001b[0;34m\u001b[0m\u001b[0m\n",
      "\u001b[0;32m<ipython-input-4-4a67d23cfdf4>\u001b[0m in \u001b[0;36mgo_to_war\u001b[0;34m(me, opponent, castles)\u001b[0m\n\u001b[1;32m      2\u001b[0m     \u001b[0mscore_me\u001b[0m\u001b[0;34m,\u001b[0m \u001b[0mscore_op\u001b[0m \u001b[0;34m=\u001b[0m \u001b[0;36m0\u001b[0m\u001b[0;34m,\u001b[0m \u001b[0;36m0\u001b[0m\u001b[0;34m\u001b[0m\u001b[0m\n\u001b[1;32m      3\u001b[0m \u001b[0;34m\u001b[0m\u001b[0m\n\u001b[0;32m----> 4\u001b[0;31m     \u001b[0;32mfor\u001b[0m \u001b[0mi\u001b[0m\u001b[0;34m,\u001b[0m\u001b[0mbattle\u001b[0m \u001b[0;32min\u001b[0m \u001b[0menumerate\u001b[0m\u001b[0;34m(\u001b[0m\u001b[0mcastles\u001b[0m\u001b[0;34m)\u001b[0m\u001b[0;34m:\u001b[0m\u001b[0;34m\u001b[0m\u001b[0m\n\u001b[0m\u001b[1;32m      5\u001b[0m         \u001b[0;32mif\u001b[0m \u001b[0mme\u001b[0m\u001b[0;34m[\u001b[0m\u001b[0mi\u001b[0m\u001b[0;34m]\u001b[0m \u001b[0;34m>\u001b[0m \u001b[0mop\u001b[0m\u001b[0;34m[\u001b[0m\u001b[0mi\u001b[0m\u001b[0;34m]\u001b[0m\u001b[0;34m:\u001b[0m\u001b[0;34m\u001b[0m\u001b[0m\n\u001b[1;32m      6\u001b[0m             \u001b[0mscore_me\u001b[0m \u001b[0;34m+=\u001b[0m \u001b[0mbattle\u001b[0m\u001b[0;34m\u001b[0m\u001b[0m\n",
      "\u001b[0;31mKeyboardInterrupt\u001b[0m: "
     ]
    }
   ],
   "source": [
    "me = [3, 4, 2, 11, 11, 3, 27, 2, 31, 6]\n",
    "win_frac = 0.8240807498197549\n",
    "\n",
    "for i in range(100000):\n",
    "    win_total = 0\n",
    "    \n",
    "    new_me = me\n",
    "    rand1, rand2 = np.random.randint(0,len(me)), np.random.randint(0,len(me))\n",
    "    r = np.random.randint(1,6)\n",
    "    if new_me[rand2] >= r:\n",
    "        new_me[rand1] += r\n",
    "        new_me[rand2] -= r\n",
    "\n",
    "        for op in teams:\n",
    "            win_total += go_to_war(me, op, castles)\n",
    "        win_frac_new = win_total/all_opponents\n",
    "\n",
    "        if win_frac_new > win_frac:\n",
    "            print(win_frac_new, new_me)\n",
    "            me = new_me\n",
    "            win_frac = win_frac_new\n",
    "            \n",
    "    if i%1000==0:\n",
    "        print(\"Done with\",i)"
   ]
  },
  {
   "cell_type": "code",
   "execution_count": null,
   "metadata": {
    "collapsed": true
   },
   "outputs": [],
   "source": [
    "me = [1, 5, 10, 9, 12, 22, 2, 3, 32, 4]\n",
    "win_frac = 0.8788752703677001"
   ]
  },
  {
   "cell_type": "code",
   "execution_count": null,
   "metadata": {
    "collapsed": false
   },
   "outputs": [],
   "source": [
    "sum([1, 5, 10, 9, 12, 22, 2, 3, 32, 4])"
   ]
  },
  {
   "cell_type": "code",
   "execution_count": null,
   "metadata": {
    "collapsed": true
   },
   "outputs": [],
   "source": []
  }
 ],
 "metadata": {
  "kernelspec": {
   "display_name": "Python 3",
   "language": "python",
   "name": "python3"
  },
  "language_info": {
   "codemirror_mode": {
    "name": "ipython",
    "version": 3
   },
   "file_extension": ".py",
   "mimetype": "text/x-python",
   "name": "python",
   "nbconvert_exporter": "python",
   "pygments_lexer": "ipython3",
   "version": "3.5.1"
  }
 },
 "nbformat": 4,
 "nbformat_minor": 0
}
