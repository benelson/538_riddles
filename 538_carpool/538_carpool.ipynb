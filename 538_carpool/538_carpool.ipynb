{
 "cells": [
  {
   "cell_type": "code",
   "execution_count": 1,
   "metadata": {
    "collapsed": false
   },
   "outputs": [],
   "source": [
    "import numpy as np\n",
    "import matplotlib.pyplot as plt\n",
    "%matplotlib inline"
   ]
  },
  {
   "cell_type": "markdown",
   "metadata": {},
   "source": [
    "From the [Riddler Express](http://fivethirtyeight.com/features/the-battle-for-riddler-nation-round-2/)...\n",
    "\n",
    "Another brute force approach. $\\tt{ticket\\_prob}$ is a list of ticketing probabilities. Once a driver gets three tickets, they are deleted from the list. Days are counted in half-day increments."
   ]
  },
  {
   "cell_type": "code",
   "execution_count": 2,
   "metadata": {
    "collapsed": false
   },
   "outputs": [
    {
     "name": "stdout",
     "output_type": "stream",
     "text": [
      "Done with 0\n",
      "Done with 10000\n",
      "Done with 20000\n",
      "Done with 30000\n",
      "Done with 40000\n",
      "Done with 50000\n",
      "Done with 60000\n",
      "Done with 70000\n",
      "Done with 80000\n",
      "Done with 90000\n"
     ]
    }
   ],
   "source": [
    "results = []\n",
    "\n",
    "for sim in range(100000):\n",
    "    ticket_prob = [0.10, 0.15, 0.20, 0.25]\n",
    "    nTickets = [0, 0, 0, 0]\n",
    "\n",
    "    days = 0\n",
    "\n",
    "    while ticket_prob:\n",
    "        driver = np.random.randint(0,len(nTickets))    \n",
    "        driver_prob = ticket_prob[driver]\n",
    "        if np.random.uniform(0.,1.)<driver_prob:\n",
    "            nTickets[driver] += 1\n",
    "            if nTickets[driver] == 3:\n",
    "                del ticket_prob[driver]\n",
    "                del nTickets[driver]\n",
    "        days += 0.5\n",
    "\n",
    "    results.append(days)\n",
    "    if sim%10000==0:\n",
    "        print(\"Done with\", sim)"
   ]
  },
  {
   "cell_type": "code",
   "execution_count": 3,
   "metadata": {
    "collapsed": false
   },
   "outputs": [
    {
     "data": {
      "image/png": "[encoded data removed]",
      "text/plain": [
       "<matplotlib.figure.Figure at 0x10d5947f0>"
      ]
     },
     "metadata": {},
     "output_type": "display_data"
    }
   ],
   "source": [
    "bins = list(range(int(min(results))-1, int(max(results))))\n",
    "\n",
    "plt.hist(results, bins=bins)\n",
    "plt.xlabel(\"Number of days until no one can drive\", fontsize=16)\n",
    "plt.ylabel(\"Counts\", fontsize=16)\n",
    "plt.show()"
   ]
  },
  {
   "cell_type": "code",
   "execution_count": 4,
   "metadata": {
    "collapsed": false
   },
   "outputs": [
    {
     "name": "stdout",
     "output_type": "stream",
     "text": [
      "Mean: 38.48565\n",
      "Median: 37.0\n",
      "Mode: 33.0\n"
     ]
    }
   ],
   "source": [
    "print(\"Mean:\", np.mean(results))\n",
    "print(\"Median:\", np.median(results))\n",
    "print(\"Mode:\", max(set(results), key=results.count))"
   ]
  },
  {
   "cell_type": "code",
   "execution_count": null,
   "metadata": {
    "collapsed": true
   },
   "outputs": [],
   "source": []
  }
 ],
 "metadata": {
  "kernelspec": {
   "display_name": "Python 3",
   "language": "python",
   "name": "python3"
  },
  "language_info": {
   "codemirror_mode": {
    "name": "ipython",
    "version": 3
   },
   "file_extension": ".py",
   "mimetype": "text/x-python",
   "name": "python",
   "nbconvert_exporter": "python",
   "pygments_lexer": "ipython3",
   "version": "3.5.1"
  }
 },
 "nbformat": 4,
 "nbformat_minor": 0
}
